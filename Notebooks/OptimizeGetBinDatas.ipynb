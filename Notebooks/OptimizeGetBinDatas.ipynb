{
 "cells": [
  {
   "cell_type": "code",
   "execution_count": 1,
   "metadata": {
    "collapsed": false
   },
   "outputs": [],
   "source": [
    "import os, json\n",
    "from Tint_Matlab import *\n",
    "import struct\n",
    "import numpy as np\n",
    "import matplotlib.pylab as plt\n",
    "import pandas as pd\n",
    "import SignalProcessing as sp\n",
    "%matplotlib inline\n",
    "import re\n",
    "%load_ext line_profiler\n",
    "import profile\n",
    "import time\n",
    "import mmap\n",
    "import contextlib\n",
    "import numpy.distutils.system_info as sysinfo"
   ]
  },
  {
   "cell_type": "code",
   "execution_count": 2,
   "metadata": {
    "collapsed": false
   },
   "outputs": [],
   "source": [
    "#bin_filename = 'C:\\\\Users\\\\Geoffrey Barrett\\\\Desktop\\\\RAW Data\\\\20170823-3-CYLINDEROPENFIELD_Mult.bin'\n",
    "# bin_filename = 'C:\\\\Users\\\\Geoffrey Barrett\\\\Desktop\\\\RAW Data\\\\20170823-2-CYLINDEROPENFIELD.bin'\n",
    "#bin_filename = 'C:\\\\Users\\\\Taub Institute\\\\Desktop\\\\RAW Data\\\\20170823-3-CYLINDEROPENFIELD_Mult.bin'\n",
    "#bin_filename = 'C:\\\\Users\\\\Taub Institute\\\\Desktop\\\\RAW Data\\\\20170823-2-CYLINDEROPENFIELD.bin'\n",
    "bin_filename = \"C:\\\\Users\\\\Taub Institute\\\\Desktop\\\\RAW Data\\\\ConvFromOtherDaq\\\\20170829-1-CYLINDEROPENFIELD.bin\"\n",
    "#bin_filename = \"C:\\\\Users\\\\Geoffrey Barrett\\\\Desktop\\\\RAW Data\\\\ConvFromOtherDaq\\\\20170829-1-CYLINDEROPENFIELD.bin\"\n",
    "\n",
    "bin_directory = os.path.dirname(bin_filename)\n",
    "session = os.path.basename(os.path.splitext(bin_filename)[0])\n",
    "set_filename = os.path.join(bin_directory, '%s.set' % session)\n",
    "pos_filename = os.path.join(bin_directory, '%s.pos' % session)"
   ]
  },
  {
   "cell_type": "code",
   "execution_count": 3,
   "metadata": {
    "collapsed": true
   },
   "outputs": [],
   "source": [
    "def get_sample_indices(channel_number, samples):\n",
    "    remap_channel = get_remap_chan(channel_number)\n",
    "    \n",
    "    indices_scalar = np.multiply(np.arange(samples), 64)\n",
    "    sample_indices = indices_scalar + np.multiply(np.ones(samples), remap_channel)\n",
    "    \n",
    "    #return np.array([remap_channel, 64 + remap_channel, 64*2 + remap_channel])\n",
    "    return (indices_scalar + np.multiply(np.ones(samples), remap_channel)).astype(int)\n",
    "\n",
    "def get_valid_pos_indices(valid_iterations):\n",
    "    \"\"\"This method will produce the indices of the unpacked byte data relating to the valid positions,\n",
    "    as well as the the iteration (packet) number that will be later used to calculate the starting position\"\"\"\n",
    "    \n",
    "    num_pos_values = 9\n",
    "    position_offset = 4  # number of values before the position values start\n",
    "\n",
    "    indices = np.arange(num_pos_values)  # there are 8 position words and 1 frame count for the time\n",
    "    indices = np.tile(indices, (1, len(valid_iterations)))\n",
    "    indices = indices.flatten()\n",
    "\n",
    "    offset_indices = valid_iterations*213 + position_offset\n",
    "    offset_indices = np.tile(offset_indices,(num_pos_values,1))\n",
    "    offset_indices = offset_indices.flatten(order='F')\n",
    "    \n",
    "    return indices + offset_indices\n",
    "\n",
    "\n",
    "def find_n(iterations, optimal=1000):\n",
    "    n = optimal\n",
    "    \n",
    "    while True:\n",
    "        if iterations % n == 0:\n",
    "\n",
    "            return n\n",
    "        else:\n",
    "            n -= 1\n",
    "    return 'abort'\n",
    "\n",
    "def get_valid_pos_bytes(valid_iterations):\n",
    "    \n",
    "    \"\"\"This function works, but the strategy I use didn't. I was going to slice the bytearray like you would\n",
    "    a numpy array but that didn't work\"\"\"\n",
    "    data_byte_len = 20\n",
    "    indices = np.arange(data_byte_len)\n",
    "    indices = np.tile(indices, (1, len(valid_iterations)))\n",
    "    indices = indices.flatten()\n",
    "\n",
    "    offset_indices = np.arange(iterations)\n",
    "    offset_indices = valid_iterations*432 + 12\n",
    "    offset_indices = np.tile(offset_indices,(data_byte_len,1))\n",
    "    offset_indices = offset_indices.flatten(order='F')\n",
    "    \n",
    "    indices = indices + offset_indices\n",
    "    indices.reshape((-1, data_byte_len))\n",
    "    \n",
    "    return indices[:,[0,-1]]\n",
    "    "
   ]
  },
  {
   "cell_type": "code",
   "execution_count": 4,
   "metadata": {
    "collapsed": true
   },
   "outputs": [],
   "source": [
    "def get_raw_pos(bin_filename):\n",
    "    \"\"\"This will get the raw position data from the .bin file in the following format:\n",
    "    video timestamp, x1, y1, x2, y2, numpix1, numpix2, total_pix, unused value\n",
    "\n",
    "    The video timestamp is the time since the camera has been turned on, thus this value is\n",
    "    irrelevent\n",
    "\n",
    "    The .bin file is written of packets of 432 bytes containing position data, three samples of\n",
    "    electrophys data (per channel), and etc.\n",
    "\n",
    "    A packet only has a valid position if it has an \"ADU2\" tag in the header. You'll notice that\n",
    "    the positions are sampled at twice the normal rate to avoid aliasing.\n",
    "    \"\"\"\n",
    "    pos_sample_num = 0\n",
    "\n",
    "    byte_count = os.path.getsize(bin_filename)\n",
    "    bytes_per_iteration = 432\n",
    "    iteration_count = int(byte_count / bytes_per_iteration)\n",
    "    sample_count = iteration_count * 192  # each iteration has 192 samples (64*3)\n",
    "\n",
    "    DaqFs = 48000\n",
    "    duration = iteration_count * 3 / DaqFs\n",
    "    duration = np.ceil(duration)\n",
    "\n",
    "    # Reading the Data\n",
    "\n",
    "    header_byte_len = 32\n",
    "    data_byte_len = 384\n",
    "    trailer_byte_len = 16\n",
    "\n",
    "    byte_skip = data_byte_len + trailer_byte_len  # 384 ephys data bytes + 16 trailer bytes\n",
    "\n",
    "    pos_Fs = 50\n",
    "    n_samples = int(duration * pos_Fs)\n",
    "\n",
    "    raw_pos = np.array([])\n",
    "\n",
    "    with open(bin_filename, 'rb') as f:\n",
    "\n",
    "        for i in range(iteration_count):\n",
    "            byte_id = f.read(4)\n",
    "\n",
    "            if 'ADU2' in str(byte_id):\n",
    "                f.seek(8, 1)  # moves the current position by 10 bytes\n",
    "                position_data = f.read(20)\n",
    "\n",
    "                time_data = position_data[:4]\n",
    "                time_data = np.asarray(struct.unpack('i', time_data))\n",
    "                time_data = time_data / 50\n",
    "\n",
    "                # packet #, video timestamp, y1, x1, y2, x2, numpix1, numpix2, total_pix, unused value\n",
    "                position_data = np.hstack((i, time_data, np.asarray(struct.unpack('8h', position_data[4:]))))\n",
    "\n",
    "                if len(raw_pos) != 0:\n",
    "                    raw_pos = np.vstack((raw_pos, position_data))\n",
    "                else:\n",
    "                    raw_pos = position_data\n",
    "\n",
    "                f.seek(byte_skip, 1)\n",
    "\n",
    "                # pos_sample_num += 1\n",
    "\n",
    "            else:\n",
    "                f.seek(bytes_per_iteration - 4, 1)\n",
    "            '''\n",
    "            if pos_sample_num > 50:\n",
    "                break\n",
    "            '''\n",
    "        # the X and Y values are reverse piece-wise so lets switch the format from\n",
    "        # packet #, video timestamp, y1, x1, y2, x2, numpix1, numpix2, total_pix, unused value\n",
    "        # to\n",
    "        # packet #, video timestamp, x1, y1, x2, y2, numpix1, numpix2, total_pix, unused value\n",
    "\n",
    "        raw_pos[:, 2:6] = raw_pos[:, [3, 2, 5, 4]]\n",
    "\n",
    "        # find the first valid sample, since the data is ampled at 48kHz, and there are 3 samples per packet, the packet\n",
    "        # rate is 16kHz. The positions are sampled at 50 Hz thus there is a valid position ever 320 packets. The valid position\n",
    "        # will essentially take the last ADU2 headered packet values\n",
    "\n",
    "        first_sample_index = len(np.where([raw_pos[:, 0] <= 320 - 1])[0])-1  # subtract one since indices in python start at 0\n",
    "\n",
    "        indices = np.arange(first_sample_index, len(raw_pos)+1, 2)  # step of 2 because it needs to be downsampled\n",
    "        raw_pos = raw_pos[indices, 1:]  # don't need the packet index anymore\n",
    "\n",
    "        # if there are less than the correct number of positions, just say the rest of the time was spent at the last recorded location\n",
    "\n",
    "        if raw_pos.shape[0] < n_samples:\n",
    "\n",
    "            missing_n = n_samples - raw_pos.shape[0]\n",
    "            last_location = raw_pos[-1, :]\n",
    "            missing_samples = np.tile(last_location, (missing_n, 1))\n",
    "\n",
    "            raw_pos = np.vstack((raw_pos, missing_samples))\n",
    "\n",
    "    return raw_pos"
   ]
  },
  {
   "cell_type": "code",
   "execution_count": 5,
   "metadata": {
    "collapsed": true
   },
   "outputs": [],
   "source": [
    "def get_raw_posa(bin_filename):\n",
    "    \"\"\"This will get the raw position data from the .bin file in the following format:\n",
    "    video timestamp, x1, y1, x2, y2, numpix1, numpix2, total_pix, unused value\n",
    "\n",
    "    The video timestamp is the time since the camera has been turned on, thus this value is\n",
    "    irrelevent\n",
    "\n",
    "    The .bin file is written of packets of 432 bytes containing position data, three samples of\n",
    "    electrophys data (per channel), and etc.\n",
    "\n",
    "    A packet only has a valid position if it has an \"ADU2\" tag in the header. You'll notice that\n",
    "    the positions are sampled at twice the normal rate to avoid aliasing.\n",
    "    \"\"\"\n",
    "    pos_sample_num = 0\n",
    "\n",
    "    byte_count = os.path.getsize(bin_filename)\n",
    "    bytes_per_iteration = 432\n",
    "    iteration_count = int(byte_count / bytes_per_iteration)\n",
    "    sample_count = iteration_count * 192  # each iteration has 192 samples (64*3)\n",
    "\n",
    "    DaqFs = 48000\n",
    "    duration = np.ceil(iteration_count * 3 / DaqFs)\n",
    "\n",
    "    # Reading the Data\n",
    "\n",
    "    header_byte_len = 32\n",
    "    data_byte_len = 384\n",
    "    trailer_byte_len = 16\n",
    "\n",
    "    byte_skip = data_byte_len + trailer_byte_len  # 384 ephys data bytes + 16 trailer bytes\n",
    "\n",
    "    pos_Fs = 50\n",
    "    n_samples = int(duration * pos_Fs)\n",
    "\n",
    "    raw_pos = np.array([])\n",
    "\n",
    "    with open(bin_filename, 'rb') as f:\n",
    "\n",
    "        for i in range(iteration_count):\n",
    "            byte_id = f.read(4)\n",
    "\n",
    "            if 'ADU2' in str(byte_id):\n",
    "                f.seek(8, 1)  # moves the current position by 10 bytes\n",
    "                position_data = f.read(20)\n",
    "\n",
    "                time_data = position_data[:4]\n",
    "                time_data = np.asarray(struct.unpack('i', time_data))\n",
    "                #np.ndarray((firingBlocks,), 'i', position_data[:4], 42+2, (100,))\n",
    "                time_data = time_data / 50\n",
    "\n",
    "                # packet #, video timestamp, y1, x1, y2, x2, numpix1, numpix2, total_pix, unused value\n",
    "                position_data = np.hstack((i, time_data, np.asarray(struct.unpack('8h', position_data[4:]))))\n",
    "\n",
    "                if len(raw_pos) != 0:\n",
    "                    raw_pos = np.vstack((raw_pos, position_data))\n",
    "                else:\n",
    "                    raw_pos = position_data\n",
    "\n",
    "                f.seek(byte_skip, 1)\n",
    "\n",
    "                # pos_sample_num += 1\n",
    "\n",
    "            else:\n",
    "                f.seek(bytes_per_iteration - 4, 1)\n",
    "            '''\n",
    "            if pos_sample_num > 50:\n",
    "                break\n",
    "            '''\n",
    "        # the X and Y values are reverse piece-wise so lets switch the format from\n",
    "        # packet #, video timestamp, y1, x1, y2, x2, numpix1, numpix2, total_pix, unused value\n",
    "        # to\n",
    "        # packet #, video timestamp, x1, y1, x2, y2, numpix1, numpix2, total_pix, unused value\n",
    "\n",
    "        raw_pos[:, 2:6] = raw_pos[:, [3, 2, 5, 4]]\n",
    "\n",
    "        # find the first valid sample, since the data is ampled at 48kHz, and there are 3 samples per packet, the packet\n",
    "        # rate is 16kHz. The positions are sampled at 50 Hz thus there is a valid position ever 320 packets. The valid position\n",
    "        # will essentially take the last ADU2 headered packet values\n",
    "\n",
    "        first_sample_index = len(np.where([raw_pos[:, 0] <= 320 - 1])[0])-1  # subtract one since indices in python start at 0\n",
    "\n",
    "        indices = np.arange(first_sample_index, len(raw_pos)+1, 2)  # step of 2 because it needs to be downsampled\n",
    "        raw_pos = raw_pos[indices, 1:]  # don't need the packet index anymore\n",
    "\n",
    "        # if there are less than the correct number of positions, just say the rest of the time was spent at the last recorded location\n",
    "\n",
    "        if raw_pos.shape[0] < n_samples:\n",
    "\n",
    "            missing_n = n_samples - raw_pos.shape[0]\n",
    "            last_location = raw_pos[-1, :]\n",
    "            missing_samples = np.tile(last_location, (missing_n, 1))\n",
    "\n",
    "            raw_pos = np.vstack((raw_pos, missing_samples))\n",
    "\n",
    "    return raw_pos"
   ]
  },
  {
   "cell_type": "code",
   "execution_count": 74,
   "metadata": {
    "collapsed": false
   },
   "outputs": [],
   "source": [
    "data = get_raw_pos2(filename)"
   ]
  },
  {
   "cell_type": "code",
   "execution_count": 75,
   "metadata": {
    "collapsed": false,
    "scrolled": true
   },
   "outputs": [
    {
     "name": "stdout",
     "output_type": "stream",
     "text": [
      "355475520\n",
      "[314573 317749 317750 ..., 320319 320320 320320]\n"
     ]
    }
   ],
   "source": [
    "num_iterations = int(len(data)/432)\n",
    "print(len(data))\n",
    "byte_ids = np.ndarray((num_iterations,), 'S4', data, 0, 432)\n",
    "pos_bool = np.where(byte_ids == b'ADU2')  # valid position packets have an ADU2 header b'ADU2' in bytes\n",
    "valid_byte_numbers = np.arange(len(byte_ids))[pos_bool]  # getting the packet number\n",
    "\n",
    "time_stamp = np.ndarray((num_iterations,), np.uint32, data, 12, 432)[pos_bool]\n",
    "positions = np.ndarray((num_iterations,), (np.uint16, (1,8)), data, 16, (432,)).reshape((-1,8))[pos_bool, :]\n",
    "\n",
    "print(time_stamp)"
   ]
  },
  {
   "cell_type": "code",
   "execution_count": 48,
   "metadata": {
    "collapsed": false
   },
   "outputs": [
    {
     "data": {
      "text/plain": [
       "35.0"
      ]
     },
     "execution_count": 48,
     "metadata": {},
     "output_type": "execute_result"
    }
   ],
   "source": [
    "data[:100]\n",
    "12441643200/355475520"
   ]
  },
  {
   "cell_type": "code",
   "execution_count": 36,
   "metadata": {
    "collapsed": false,
    "scrolled": true
   },
   "outputs": [
    {
     "name": "stdout",
     "output_type": "stream",
     "text": [
      "[314573 317749 317750 ..., 407750 407750 407751]\n",
      "[[ 102  148 1023 ...,   65    0   65]\n",
      " [  76   96 1023 ...,  112    0  112]\n",
      " [  92  117 1023 ...,   84    0   84]\n",
      " ..., \n",
      " [  62  108 1023 ...,   97    0   97]\n",
      " [  62  108 1023 ...,   97    0   97]\n",
      " [  50   84 1023 ...,  117    0  117]]\n",
      "Wall time: 3.05 s\n"
     ]
    }
   ],
   "source": [
    "%%time\n",
    "\n",
    "import mmap\n",
    "import contextlib\n",
    "filename = 'C:\\\\Users\\\\Taub Institute\\\\Desktop\\\\RAW Data\\\\Raw30Min\\\\20170927-RAW-30MIN.bin'\n",
    "# filename = 'C:\\\\Users\\\\Geoffrey Barrett\\\\Desktop\\\\RAW Data\\\\Raw30m\\\\20170927-RAW-30MIN.bin'\n",
    "#filename = bin_filename\n",
    "\n",
    "with open(filename, 'rb') as f:\n",
    "    # pass\n",
    "    with contextlib.closing(mmap.mmap(f.fileno(), 0, access=mmap.ACCESS_READ)) as m:\n",
    "        num_iterations = int(len(m)/432)\n",
    "        byte_ids = np.ndarray((num_iterations,), 'S4', m, 0, 432)\n",
    "        pos_bool = np.where(byte_ids == b'ADU2')  # valid position packets have an ADU2 header b'ADU2' in bytes\n",
    "        valid_byte_numbers = np.arange(len(byte_ids))[pos_bool]  # getting the packet number\n",
    "        \n",
    "\n",
    "        time_stamp = np.ndarray((num_iterations,), np.uint32, m, 12, 432)[pos_bool]\n",
    "        print(time_stamp)\n",
    "        \n",
    "        positions = np.ndarray((num_iterations,), (np.uint16, (1,8)), m, 16, (432,)).reshape((-1,8))[pos_bool][:]\n",
    "  \n",
    "        #print(positions)\n",
    "        \n",
    "#positions.setflags(write=1)\n",
    "positions[:, 0:4] = positions[:, [1, 0, 3, 2]]\n",
    "# positions[:, 0:4] = 1\n",
    "#print(positions)\n",
    "print(positions)"
   ]
  },
  {
   "cell_type": "code",
   "execution_count": 45,
   "metadata": {
    "collapsed": false
   },
   "outputs": [
    {
     "data": {
      "text/plain": [
       "array([[  62,  108, 1023, 1023,    0,   97,    0,   97],\n",
       "       [  50,   84, 1023, 1023,    0,  117,    0,  117]], dtype=uint16)"
      ]
     },
     "execution_count": 45,
     "metadata": {},
     "output_type": "execute_result"
    }
   ],
   "source": [
    "positions[180000:][:]"
   ]
  },
  {
   "cell_type": "code",
   "execution_count": 41,
   "metadata": {
    "collapsed": false
   },
   "outputs": [
    {
     "name": "stdout",
     "output_type": "stream",
     "text": [
      "2\n",
      "[     2      4      6 ..., 179998 180000 180002] 180002\n",
      "[[  92  117 1023 ...,   84    0   84]\n",
      " [  76   94 1023 ...,  104    0  104]\n",
      " [  94  117 1023 ...,   84    0   84]\n",
      " ..., \n",
      " [  52   89 1023 ...,  118    0  118]\n",
      " [  72  122 1023 ...,   78    0   78]\n",
      " [  62  108 1023 ...,   97    0   97]]\n"
     ]
    }
   ],
   "source": [
    "first_sample_index = len(np.where(valid_byte_numbers <= 320 - 1)[0])-1\n",
    "print(first_sample_index)\n",
    "indices = np.arange(first_sample_index, len(positions)+1, 2)  # step of 2 because it needs to be downsampled\n",
    "print(indices, len(positions))\n",
    "if indices[-1] >= len(positions):\n",
    "    indices = indices[:-1]\n",
    "    \n",
    "print(positions[indices,:])"
   ]
  },
  {
   "cell_type": "code",
   "execution_count": 7,
   "metadata": {
    "collapsed": false
   },
   "outputs": [
    {
     "data": {
      "text/plain": [
       "6291.46"
      ]
     },
     "execution_count": 7,
     "metadata": {},
     "output_type": "execute_result"
    }
   ],
   "source": [
    "314573 / 50"
   ]
  },
  {
   "cell_type": "code",
   "execution_count": 32,
   "metadata": {
    "collapsed": false
   },
   "outputs": [
    {
     "name": "stdout",
     "output_type": "stream",
     "text": [
      "[[[  96   76 1023 ...,  112    0  112]\n",
      "  [ 148  102 1023 ...,   65    0   65]\n",
      "  [ 117   92 1023 ...,   84    0   84]\n",
      "  ..., \n",
      "  [ 108   62 1023 ...,   97    0   97]\n",
      "  [ 108   62 1023 ...,   97    0   97]\n",
      "  [  84   50 1023 ...,  117    0  117]]]\n",
      "[ 1048.58  1112.1   1112.12 ...,   290.68   290.68   290.7 ]\n",
      "Wall time: 3.73 s\n"
     ]
    }
   ],
   "source": [
    "%%time\n",
    "\n",
    "import mmap\n",
    "import contextlib\n",
    "filename = 'C:\\\\Users\\\\Taub Institute\\\\Desktop\\\\RAW Data\\\\Raw30Min\\\\20170927-RAW-30MIN.bin'\n",
    "# filename = 'C:\\\\Users\\\\Geoffrey Barrett\\\\Desktop\\\\RAW Data\\\\Raw30m\\\\20170927-RAW-30MIN.bin'\n",
    "#filename = bin_filename\n",
    "\n",
    "with open(filename, 'rb') as f:\n",
    "    # pass\n",
    "    with contextlib.closing(mmap.mmap(f.fileno(), 0, access=mmap.ACCESS_READ)) as m:\n",
    "        num_iterations = int(len(m)/432)\n",
    "        byte_ids = np.ndarray((num_iterations,), 'S4', m, 0, 432)\n",
    "        pos_bool = np.where(byte_ids == b'ADU2')  # valid position packets have an ADU2 header b'ADU2' in bytes\n",
    "        valid_byte_numbers = np.arange(len(byte_ids))[pos_bool]  # getting the packet number\n",
    "\n",
    "        time_stamp = np.ndarray((num_iterations,), np.uint32, m, 12, 432)[pos_bool]\n",
    "        positions = np.ndarray((num_iterations,), (np.uint16, (1,8)), m, 16, (432,)).reshape((-1,8))[pos_bool][:]\n",
    "\n",
    "#positions.setflags(write=1) \n",
    "positions[:, 0:4] = positions[:, [1, 0, 3, 2]]\n",
    "# positions[:, 0:4] = 1\n",
    "print(positions)\n",
    "\n",
    "print(np.divide(time_stamp, 50))"
   ]
  },
  {
   "cell_type": "code",
   "execution_count": 156,
   "metadata": {
    "collapsed": false
   },
   "outputs": [
    {
     "name": "stdout",
     "output_type": "stream",
     "text": [
      "[[ 6355.      92.     117.   ...,    84.       0.      84.  ]\n",
      " [ 6355.    1023.    1023.   ...,    84.       0.      84.  ]\n",
      " [ 6355.02    76.      94.   ...,   104.       0.     104.  ]\n",
      " ..., \n",
      " [ 8155.02  1023.    1023.   ...,   117.       0.     117.  ]\n",
      " [ 8155.02    50.      84.   ...,   117.       0.     117.  ]\n",
      " [ 8155.02  1023.    1023.   ...,   117.       0.     117.  ]]\n",
      "Wall time: 2.88 s\n"
     ]
    }
   ],
   "source": [
    "%%time\n",
    "\n",
    "data = get_raw_pos2a(filename, mode='mmap')\n",
    "print(data)"
   ]
  },
  {
   "cell_type": "code",
   "execution_count": 157,
   "metadata": {
    "collapsed": false
   },
   "outputs": [
    {
     "data": {
      "text/plain": [
       "(180100, 9)"
      ]
     },
     "execution_count": 157,
     "metadata": {},
     "output_type": "execute_result"
    }
   ],
   "source": [
    "data.shape"
   ]
  },
  {
   "cell_type": "code",
   "execution_count": 154,
   "metadata": {
    "collapsed": false,
    "scrolled": true
   },
   "outputs": [
    {
     "name": "stdout",
     "output_type": "stream",
     "text": [
      "[[ 6355.      92.     117.   ...,    84.       0.      84.  ]\n",
      " [ 6355.    1023.    1023.   ...,    84.       0.      84.  ]\n",
      " [ 6355.02    76.      94.   ...,   104.       0.     104.  ]\n",
      " ..., \n",
      " [ 8155.02  1023.    1023.   ...,   117.       0.     117.  ]\n",
      " [ 8155.02    50.      84.   ...,   117.       0.     117.  ]\n",
      " [ 8155.02  1023.    1023.   ...,   117.       0.     117.  ]]\n"
     ]
    }
   ],
   "source": [
    "data = get_raw_pos2a(filename, mode='non')\n",
    "print(data)"
   ]
  },
  {
   "cell_type": "code",
   "execution_count": 77,
   "metadata": {
    "collapsed": false
   },
   "outputs": [
    {
     "name": "stdout",
     "output_type": "stream",
     "text": [
      "[[  3.17750000e+05   9.20000000e+01   1.17000000e+02]\n",
      " [  3.17751000e+05   7.60000000e+01   9.40000000e+01]\n",
      " [  3.17752000e+05   9.40000000e+01   1.17000000e+02]\n",
      " ..., \n",
      " [  4.07751000e+05   5.00000000e+01   8.40000000e+01]\n",
      " [  4.07751000e+05   5.00000000e+01   8.40000000e+01]\n",
      " [  4.07751000e+05   5.00000000e+01   8.40000000e+01]]\n"
     ]
    }
   ],
   "source": [
    "posfilename = 'C:\\\\Users\\\\Taub Institute\\\\Desktop\\\\RAW Data\\\\Raw30Min - Copy\\\\20170927-RAW-30MIN_converted.pos'\n",
    "#posfilename = 'C:\\\\Users\\\\Taub Institute\\\\Desktop\\\\RAW Data\\\\ConvFromOtherDaq - Copy\\\\20170829-1-CYLINDEROPENFIELD_converted.pos'\n",
    "posx, posy, post = getpos(posfilename, 'BehaviorRoom', method='raw')\n",
    "print(np.hstack((post, posx, posy)))"
   ]
  },
  {
   "cell_type": "code",
   "execution_count": 54,
   "metadata": {
    "collapsed": false
   },
   "outputs": [
    {
     "data": {
      "text/plain": [
       "1048.58"
      ]
     },
     "execution_count": 54,
     "metadata": {},
     "output_type": "execute_result"
    }
   ],
   "source": [
    "52429/50"
   ]
  },
  {
   "cell_type": "code",
   "execution_count": 25,
   "metadata": {
    "collapsed": false
   },
   "outputs": [],
   "source": [
    "def get_raw_pos2(bin_filename):\n",
    "    \"\"\"This will get the raw position data from the .bin file in the following format:\n",
    "    video timestamp, x1, y1, x2, y2, numpix1, numpix2, total_pix, unused value\n",
    "    \n",
    "    The video timestamp is the time since the camera has been turned on, thus this value is\n",
    "    irrelevent\n",
    "    \n",
    "    The .bin file is written of packets of 432 bytes containing position data, three samples of \n",
    "    electrophys data (per channel), and etc.\n",
    "    \n",
    "    A packet only has a valid position if it has an \"ADU2\" tag in the header. You'll notice that\n",
    "    the positions are sampled at twice the normal rate to avoid aliasing.\n",
    "    \"\"\"\n",
    "    pos_sample_num = 0\n",
    "    \n",
    "    byte_count = os.path.getsize(bin_filename)\n",
    "    bytes_per_iteration = 432\n",
    "    iteration_count = int(byte_count/bytes_per_iteration)  \n",
    "    sample_count = iteration_count * 192  # each iteration has 192 samples (64*3)\n",
    "    \n",
    "    optimal_iteration = 1000000\n",
    "    if optimal_iteration >= iteration_count:\n",
    "        simul_iterations = iteration_count\n",
    "    else:\n",
    "        simul_iterations = find_n(iteration_count, optimal=optimal_iteration)\n",
    "\n",
    "    n = int(iteration_count / simul_iterations) # finds how many loops to do\n",
    "    byte_chunksize = int(simul_iterations * bytes_per_iteration)\n",
    "    \n",
    "    DaqFs = 48000\n",
    "    duration = iteration_count * 3 / DaqFs\n",
    "    duration = np.ceil(duration)\n",
    "    \n",
    "    pos_Fs = 50\n",
    "    n_samples = int(duration * pos_Fs)\n",
    "    \n",
    "    #Reading the Data\n",
    "    \n",
    "    header_byte_len = 32\n",
    "    data_byte_len = 384\n",
    "    trailer_byte_len = 16\n",
    "    \n",
    "    raw_pos = np.array([])\n",
    "    \n",
    "    #iteration_string = '%dh' % (8)\n",
    "    iteration_string = '%di%dhi%dh' % (2, 2, 8+192+1+1+5+1) \n",
    "    \n",
    "    pos_data = b''\n",
    "    \n",
    "    positions = np.array([])\n",
    "    \n",
    "    with open(bin_filename, 'rb') as f:\n",
    "        \n",
    "        iteration_start = 0\n",
    "        \n",
    "        for i in range(n):\n",
    "            data = f.read(byte_chunksize)\n",
    "            \n",
    "            return data\n",
    "             # find the indices of ADU2, ADU2 is where the position is valid\n",
    "            valid_iterations = (np.asarray([instance.start() for instance in re.finditer(b'ADU2', data)])/432).astype(int)\n",
    "            \n",
    "            # return data\n",
    "            data = np.asarray(struct.unpack('<%s' % (simul_iterations*iteration_string), data))\n",
    "            \n",
    "            # get the indices that the positions are in                              \n",
    "            pos_indices = get_valid_pos_indices(valid_iterations)\n",
    "            \n",
    "            i = valid_iterations + iteration_start\n",
    "            \n",
    "            data = data[pos_indices].reshape((-1, 9))  # There are 8 values for positions and 1 for the frame count (timestamp)\n",
    "            \n",
    "            data = np.hstack((i.reshape((-1,1)), data))\n",
    "            \n",
    "            iteration_start += simul_iterations\n",
    "            \n",
    "            if len(positions) != 0:\n",
    "                \n",
    "                positions = np.vstack((positions, data))\n",
    "                \n",
    "            else:\n",
    "                \n",
    "                positions = data\n",
    "        \n",
    "        positions[:,1] = positions[:,1] / 50  # converting from a frame count to a time value in seconds\n",
    "        \n",
    "        # positions is structured as: packet #, video timestamp, y1, x1, y2, x2, numpix1, numpix2, total_pix, unused value \n",
    "\n",
    "        # the X and Y values are reverse piece-wise so lets switch the format from \n",
    "        # packet #, video timestamp, y1, x1, y2, x2, numpix1, numpix2, total_pix, unused value\n",
    "        # to \n",
    "        # packet #, video timestamp, x1, y1, x2, y2, numpix1, numpix2, total_pix, unused value\n",
    "        \n",
    "        positions[:, 2:6] = positions[:, [3, 2, 5, 4]] \n",
    "        \n",
    "        # find the first valid sample, since the data is sampled at 48kHz, and there are 3 samples per packet, the packet\n",
    "        # rate is 16kHz. The positions are sampled at 50 Hz thus there is a valid position ever 320 packets. The valid position\n",
    "        # will essentially take the last ADU2 headered packet values\n",
    "        \n",
    "        first_sample_index = len(np.where(positions[:, 0] <= 320 - 1)[0])-1  # subtract one since indices in python start at 0\n",
    "\n",
    "        indices = np.arange(first_sample_index, len(positions)+1, 2)  # step of 2 because it needs to be downsampled\n",
    "        positions = positions[indices, 1:]  # don't need the packet index anymore\n",
    "\n",
    "        # if there are less than the correct number of positions, just say the rest of the time was spent at the last recorded location\n",
    "\n",
    "        if positions.shape[0] < n_samples:\n",
    "\n",
    "            missing_n = int(2*n_samples - positions.shape[0])\n",
    "            last_location = positions[-1, :]\n",
    "            missing_samples = np.tile(last_location, (missing_n, 1))\n",
    "\n",
    "            positions = np.vstack((positions, missing_samples))\n",
    "    \n",
    "    return positions\n"
   ]
  },
  {
   "cell_type": "code",
   "execution_count": 149,
   "metadata": {
    "collapsed": false
   },
   "outputs": [],
   "source": [
    "def get_raw_pos2a(bin_filename, mode='mmap'):\n",
    "    \"\"\"This will get the raw position data from the .bin file in the following format:\n",
    "    video timestamp, x1, y1, x2, y2, numpix1, numpix2, total_pix, unused value\n",
    "    \n",
    "    The video timestamp is the time since the camera has been turned on, thus this value is\n",
    "    irrelevent\n",
    "    \n",
    "    The .bin file is written of packets of 432 bytes containing position data, three samples of \n",
    "    electrophys data (per channel), and etc.\n",
    "    \n",
    "    A packet only has a valid position if it has an \"ADU2\" tag in the header. You'll notice that\n",
    "    the positions are sampled at twice the normal rate to avoid aliasing.\n",
    "    \n",
    "    There are two modes, one will use memory mapping, and the other will not: 'mmap' or 'non'\n",
    "    \"\"\"\n",
    "    pos_sample_num = 0\n",
    "    \n",
    "    byte_count = os.path.getsize(bin_filename)\n",
    "    bytes_per_iteration = 432\n",
    "    iteration_count = int(byte_count/bytes_per_iteration)  \n",
    "    sample_count = iteration_count * 192  # each iteration has 192 samples (64*3)\n",
    "    \n",
    "    optimal_iteration = 1000000\n",
    "    if optimal_iteration >= iteration_count:\n",
    "        simul_iterations = iteration_count\n",
    "    else:\n",
    "        simul_iterations = find_n(iteration_count, optimal=optimal_iteration)\n",
    "\n",
    "    n = int(iteration_count / simul_iterations) # finds how many loops to do\n",
    "    byte_chunksize = int(simul_iterations * bytes_per_iteration)\n",
    "\n",
    "    DaqFs = 48000\n",
    "    duration = iteration_count * 3 / DaqFs\n",
    "    duration = np.ceil(duration)\n",
    "    \n",
    "    pos_Fs = 50\n",
    "    n_samples = int(duration * pos_Fs)\n",
    "    \n",
    "    #Reading the Data\n",
    "    \n",
    "    header_byte_len = 32\n",
    "    data_byte_len = 384\n",
    "    trailer_byte_len = 16\n",
    "    \n",
    "    raw_pos = np.array([]).astype(float)\n",
    "    \n",
    "    if sysinfo.platform_bits != 64:\n",
    "        mode = 'non'  # do not mmap with a 32 bit python\n",
    "    \n",
    "    with open(bin_filename, 'rb') as f:\n",
    "        \n",
    "        if mode == 'mmap':\n",
    "            # we will use memory mapped objects\n",
    "            \n",
    "            with contextlib.closing(mmap.mmap(f.fileno(), 0, access=mmap.ACCESS_READ)) as m:\n",
    "                num_iterations = int(len(m)/bytes_per_iteration)\n",
    "                \n",
    "                byte_ids = np.ndarray((num_iterations,), 'S4', m, 0, 432)\n",
    "                \n",
    "                pos_bool = np.where(byte_ids == b'ADU2')  # valid position packets have an ADU2 header b'ADU2' in bytes\n",
    "                \n",
    "                valid_iterations = np.arange(len(byte_ids))[pos_bool]  # getting the packet number\n",
    "\n",
    "                time_stamp = np.ndarray((num_iterations,), np.uint32, m, 12, 432)[pos_bool].reshape((-1,1))  # gettinge the time stamp data\n",
    "                \n",
    "                raw_pos = np.ndarray((num_iterations,), (np.uint16, (1,8)), m, 16, (432,)).reshape((-1,8))[pos_bool][:]\n",
    "             \n",
    "                raw_pos = np.hstack((valid_iterations.reshape((-1,1)), time_stamp, raw_pos)).astype(float)  # stacking all these values to create one matrix\n",
    "\n",
    "        else:\n",
    "            \n",
    "            # in some cases using memory mapping will be slow, such as using 32 bit python\n",
    "            \n",
    "            iteration_start = 0\n",
    "            # we will iterate\n",
    "            for i in range(n):\n",
    "                data = f.read(byte_chunksize)\n",
    "                num_iterations = int(len(data)/bytes_per_iteration)\n",
    "\n",
    "                byte_ids = np.ndarray((num_iterations,), 'S4', data, 0, 432)\n",
    "\n",
    "                pos_bool = np.where(byte_ids == b'ADU2')  # valid position packets have an ADU2 header b'ADU2' in bytes\n",
    "\n",
    "                valid_iterations = np.arange(len(byte_ids))[pos_bool]  # getting the packet number\n",
    "\n",
    "                time_stamp = np.ndarray((num_iterations,), np.uint32, data, 12, 432)[pos_bool].reshape((-1,1))  # gettinge the time stamp data\n",
    "                \n",
    "                positions = np.ndarray((num_iterations,), (np.uint16, (1,8)), data, 16, (432,)).reshape((-1,8))[pos_bool][:]\n",
    "                \n",
    "                i = np.add(valid_iterations, iteration_start)  # offsetting the samples depending on the chunk number (n)\n",
    "\n",
    "                positions = np.hstack((i.reshape((-1,1)), time_stamp, positions)).astype(float)  # stacking all these values to create one matrix\n",
    "                \n",
    "                iteration_start += simul_iterations\n",
    "\n",
    "                if len(raw_pos) != 0:\n",
    "\n",
    "                    raw_pos = np.vstack((raw_pos, positions))\n",
    "\n",
    "                else:\n",
    "\n",
    "                    raw_pos = positions\n",
    "\n",
    "        \n",
    "        raw_pos[:,1] = np.divide(raw_pos[:,1], 50)  # converting from a frame count to a time value in seconds\n",
    "        \n",
    "        # raw_pos is structured as: packet #, video timestamp, y1, x1, y2, x2, numpix1, numpix2, total_pix, unused value \n",
    "\n",
    "        # the X and Y values are reverse piece-wise so lets switch the format from \n",
    "        # packet #, video timestamp, y1, x1, y2, x2, numpix1, numpix2, total_pix, unused value\n",
    "        # to \n",
    "        # packet #, video timestamp, x1, y1, x2, y2, numpix1, numpix2, total_pix, unused value\n",
    "        \n",
    "        raw_pos[:, 2:6] = raw_pos[:, [3, 2, 5, 4]] \n",
    "        \n",
    "         # find the first valid sample, since the data is sampled at 48kHz, and there are 3 samples per packet, the packet\n",
    "        # rate is 16kHz. The positions are sampled at 50 Hz thus there is a valid position ever 320 packets. The valid position\n",
    "        # will essentially take the last ADU2 headered packet values\n",
    "        \n",
    "        first_sample_index = len(np.where(raw_pos[:, 0] <= 320 - 1)[0])-1  # subtract one since indices in python start at 0\n",
    "        \n",
    "        raw_pos = raw_pos[first_sample_index:,:]\n",
    "        \n",
    "        # there should be twice the number of samples since they double sampled to stop aliasing\n",
    "        # if there is not 2 * n_samples, append the last recorded sample to the end (we will assume the animal remained there\n",
    "        # for the rest of the time) \n",
    "\n",
    "        if raw_pos.shape[0] < 2*n_samples:\n",
    "\n",
    "            missing_n = int(2*n_samples - raw_pos.shape[0])\n",
    "            last_location = raw_pos[-1, :]\n",
    "            missing_samples = np.tile(last_location, (missing_n, 1))\n",
    "\n",
    "            raw_pos = np.vstack((raw_pos, missing_samples))\n",
    "        \n",
    "        # now we will set the oversampled data to 1023 (NaN) as that is how the converter treats the double sampled data\n",
    "        \n",
    "        indices = np.arange(1,raw_pos.shape[0], 2)\n",
    "        if indices[-1] >= raw_pos.shape[0]:\n",
    "            indices = indices[:-1]\n",
    "        \n",
    "        raw_pos[indices, 2:4] = 1023\n",
    "        \n",
    "        raw_pos = raw_pos[:, 1:]  # don't need the packet index anymore\n",
    "    \n",
    "    return raw_pos\n"
   ]
  },
  {
   "cell_type": "code",
   "execution_count": 55,
   "metadata": {
    "collapsed": false
   },
   "outputs": [
    {
     "name": "stdout",
     "output_type": "stream",
     "text": [
      "[ 3 55  6]\n"
     ]
    }
   ],
   "source": [
    "a = np.array([1,3,4,55,56,6,8])\n",
    "print(a[np.arange(1,len(a), 2)])"
   ]
  },
  {
   "cell_type": "code",
   "execution_count": null,
   "metadata": {
    "collapsed": true
   },
   "outputs": [],
   "source": [
    "%lprun -f get_raw_pos2a get_raw_pos2a(bin_filename)"
   ]
  },
  {
   "cell_type": "code",
   "execution_count": 296,
   "metadata": {
    "collapsed": false
   },
   "outputs": [
    {
     "ename": "AttributeError",
     "evalue": "'bytes' object has no attribute 'ravel'",
     "traceback": [
      "\u001b[1;31m---------------------------------------------------------------------------\u001b[0m",
      "\u001b[1;31mAttributeError\u001b[0m                            Traceback (most recent call last)",
      "\u001b[1;32m<ipython-input-296-802642fbdf72>\u001b[0m in \u001b[0;36m<module>\u001b[1;34m()\u001b[0m\n\u001b[1;32m----> 1\u001b[1;33m \u001b[0mdata\u001b[0m \u001b[1;33m=\u001b[0m \u001b[0mget_raw_pos2a\u001b[0m\u001b[1;33m(\u001b[0m\u001b[0mbin_filename\u001b[0m\u001b[1;33m)\u001b[0m\u001b[1;33m\u001b[0m\u001b[0m\n\u001b[0m\u001b[0;32m      2\u001b[0m \u001b[1;31m# data = get_raw_pos2a('C:\\\\Users\\\\Geoffrey Barrett\\\\Desktop\\\\RAW Data\\\\Raw30m\\\\20170927-RAW-30MIN.bin')\u001b[0m\u001b[1;33m\u001b[0m\u001b[1;33m\u001b[0m\u001b[0m\n\u001b[0;32m      3\u001b[0m \u001b[0mplt\u001b[0m\u001b[1;33m.\u001b[0m\u001b[0mplot\u001b[0m\u001b[1;33m(\u001b[0m\u001b[0mdata\u001b[0m\u001b[1;33m[\u001b[0m\u001b[1;33m:\u001b[0m\u001b[1;33m,\u001b[0m\u001b[1;36m1\u001b[0m\u001b[1;33m]\u001b[0m\u001b[1;33m,\u001b[0m \u001b[0mdata\u001b[0m\u001b[1;33m[\u001b[0m\u001b[1;33m:\u001b[0m\u001b[1;33m,\u001b[0m\u001b[1;36m2\u001b[0m\u001b[1;33m]\u001b[0m\u001b[1;33m)\u001b[0m\u001b[1;33m\u001b[0m\u001b[0m\n",
      "\u001b[1;32m<ipython-input-295-c1faf73ce5e9>\u001b[0m in \u001b[0;36mget_raw_pos2a\u001b[1;34m(bin_filename)\u001b[0m\n\u001b[0;32m     52\u001b[0m \u001b[1;33m\u001b[0m\u001b[0m\n\u001b[0;32m     53\u001b[0m             \u001b[0mbyte_ids\u001b[0m \u001b[1;33m=\u001b[0m \u001b[0mnp\u001b[0m\u001b[1;33m.\u001b[0m\u001b[0mndarray\u001b[0m\u001b[1;33m(\u001b[0m\u001b[1;33m(\u001b[0m\u001b[0mnum_iterations\u001b[0m\u001b[1;33m,\u001b[0m\u001b[1;33m)\u001b[0m\u001b[1;33m,\u001b[0m \u001b[1;34m'S4'\u001b[0m\u001b[1;33m,\u001b[0m \u001b[0mdata\u001b[0m\u001b[1;33m,\u001b[0m \u001b[1;36m0\u001b[0m\u001b[1;33m,\u001b[0m \u001b[1;36m432\u001b[0m\u001b[1;33m)\u001b[0m\u001b[1;33m\u001b[0m\u001b[0m\n\u001b[1;32m---> 54\u001b[1;33m             \u001b[0mpos_bool\u001b[0m \u001b[1;33m=\u001b[0m \u001b[0mnp\u001b[0m\u001b[1;33m.\u001b[0m\u001b[0munravel_index\u001b[0m\u001b[1;33m(\u001b[0m\u001b[0mnp\u001b[0m\u001b[1;33m.\u001b[0m\u001b[0mwhere\u001b[0m\u001b[1;33m(\u001b[0m\u001b[0mdata\u001b[0m\u001b[1;33m.\u001b[0m\u001b[0mravel\u001b[0m\u001b[1;33m(\u001b[0m\u001b[1;33m)\u001b[0m\u001b[1;33m==\u001b[0m\u001b[1;34mb'ADU2'\u001b[0m\u001b[1;33m)\u001b[0m\u001b[1;33m,\u001b[0m\u001b[0mdata\u001b[0m\u001b[1;33m.\u001b[0m\u001b[0mshape\u001b[0m\u001b[1;33m)\u001b[0m\u001b[1;33m\u001b[0m\u001b[0m\n\u001b[0m\u001b[0;32m     55\u001b[0m             \u001b[1;31m# pos_bool = np.where(byte_ids == b'ADU2')  # valid position packets have an ADU2 header b'ADU2' in bytes\u001b[0m\u001b[1;33m\u001b[0m\u001b[1;33m\u001b[0m\u001b[0m\n\u001b[0;32m     56\u001b[0m             \u001b[0mvalid_iterations\u001b[0m \u001b[1;33m=\u001b[0m \u001b[0mnp\u001b[0m\u001b[1;33m.\u001b[0m\u001b[0marange\u001b[0m\u001b[1;33m(\u001b[0m\u001b[0mlen\u001b[0m\u001b[1;33m(\u001b[0m\u001b[0mbyte_ids\u001b[0m\u001b[1;33m)\u001b[0m\u001b[1;33m)\u001b[0m\u001b[1;33m[\u001b[0m\u001b[0mpos_bool\u001b[0m\u001b[1;33m]\u001b[0m  \u001b[1;31m# getting the packet number\u001b[0m\u001b[1;33m\u001b[0m\u001b[0m\n",
      "\u001b[1;31mAttributeError\u001b[0m: 'bytes' object has no attribute 'ravel'"
     ],
     "output_type": "error"
    }
   ],
   "source": [
    "data = get_raw_pos2a(bin_filename)\n",
    "# data = get_raw_pos2a('C:\\\\Users\\\\Geoffrey Barrett\\\\Desktop\\\\RAW Data\\\\Raw30m\\\\20170927-RAW-30MIN.bin')\n",
    "plt.plot(data[:,1], data[:,2])"
   ]
  },
  {
   "cell_type": "code",
   "execution_count": 291,
   "metadata": {
    "collapsed": false
   },
   "outputs": [
    {
     "name": "stdout",
     "output_type": "stream",
     "text": [
      "355475520\n",
      "355475520\n",
      "355475520\n",
      "355475520\n",
      "1 loop, best of 3: 1min 44s per loop\n"
     ]
    }
   ],
   "source": [
    "%timeit data = get_raw_pos2a('C:\\\\Users\\\\Geoffrey Barrett\\\\Desktop\\\\RAW Data\\\\Raw30m\\\\20170927-RAW-30MIN.bin')"
   ]
  },
  {
   "cell_type": "code",
   "execution_count": 275,
   "metadata": {
    "collapsed": false
   },
   "outputs": [
    {
     "name": "stdout",
     "output_type": "stream",
     "text": [
      "1 loop, best of 3: 349 ms per loop\n",
      "1 loop, best of 3: 2.13 s per loop\n"
     ]
    }
   ],
   "source": [
    "%timeit data = get_raw_pos2a(bin_filename)\n",
    "%timeit data = get_raw_pos(bin_filename)"
   ]
  },
  {
   "cell_type": "code",
   "execution_count": 268,
   "metadata": {
    "collapsed": false
   },
   "outputs": [
    {
     "data": {
      "text/plain": [
       "[<matplotlib.lines.Line2D at 0x578da0>]"
      ]
     },
     "execution_count": 268,
     "metadata": {},
     "output_type": "execute_result"
    },
    {
     "data": {
      "image/png": "[encoded data removed]",
      "text/plain": [
       "<matplotlib.figure.Figure at 0x72a7f0>"
      ]
     },
     "metadata": {},
     "output_type": "display_data"
    }
   ],
   "source": [
    "data = get_raw_pos2(bin_filename)\n",
    "plt.plot(data[:,1], data[:,2])"
   ]
  },
  {
   "cell_type": "code",
   "execution_count": 233,
   "metadata": {
    "collapsed": false
   },
   "outputs": [
    {
     "name": "stdout",
     "output_type": "stream",
     "text": [
      "1 loop, best of 3: 32.8 s per loop\n"
     ]
    },
    {
     "ename": "ValueError",
     "evalue": "all the input arrays must have same number of dimensions",
     "traceback": [
      "\u001b[1;31m---------------------------------------------------------------------------\u001b[0m",
      "\u001b[1;31mValueError\u001b[0m                                Traceback (most recent call last)",
      "\u001b[1;32m<ipython-input-233-814b736df3b5>\u001b[0m in \u001b[0;36m<module>\u001b[1;34m()\u001b[0m\n\u001b[0;32m      1\u001b[0m \u001b[0mget_ipython\u001b[0m\u001b[1;33m(\u001b[0m\u001b[1;33m)\u001b[0m\u001b[1;33m.\u001b[0m\u001b[0mmagic\u001b[0m\u001b[1;33m(\u001b[0m\u001b[1;34m'timeit data = get_raw_pos2(bin_filename)'\u001b[0m\u001b[1;33m)\u001b[0m\u001b[1;33m\u001b[0m\u001b[0m\n\u001b[1;32m----> 2\u001b[1;33m \u001b[0mget_ipython\u001b[0m\u001b[1;33m(\u001b[0m\u001b[1;33m)\u001b[0m\u001b[1;33m.\u001b[0m\u001b[0mmagic\u001b[0m\u001b[1;33m(\u001b[0m\u001b[1;34m'timeit data = get_raw_pos2a(bin_filename)'\u001b[0m\u001b[1;33m)\u001b[0m\u001b[1;33m\u001b[0m\u001b[0m\n\u001b[0m",
      "\u001b[1;32mc:\\python34\\lib\\site-packages\\IPython\\core\\interactiveshell.py\u001b[0m in \u001b[0;36mmagic\u001b[1;34m(self, arg_s)\u001b[0m\n\u001b[0;32m   2161\u001b[0m         \u001b[0mmagic_name\u001b[0m\u001b[1;33m,\u001b[0m \u001b[0m_\u001b[0m\u001b[1;33m,\u001b[0m \u001b[0mmagic_arg_s\u001b[0m \u001b[1;33m=\u001b[0m \u001b[0marg_s\u001b[0m\u001b[1;33m.\u001b[0m\u001b[0mpartition\u001b[0m\u001b[1;33m(\u001b[0m\u001b[1;34m' '\u001b[0m\u001b[1;33m)\u001b[0m\u001b[1;33m\u001b[0m\u001b[0m\n\u001b[0;32m   2162\u001b[0m         \u001b[0mmagic_name\u001b[0m \u001b[1;33m=\u001b[0m \u001b[0mmagic_name\u001b[0m\u001b[1;33m.\u001b[0m\u001b[0mlstrip\u001b[0m\u001b[1;33m(\u001b[0m\u001b[0mprefilter\u001b[0m\u001b[1;33m.\u001b[0m\u001b[0mESC_MAGIC\u001b[0m\u001b[1;33m)\u001b[0m\u001b[1;33m\u001b[0m\u001b[0m\n\u001b[1;32m-> 2163\u001b[1;33m         \u001b[1;32mreturn\u001b[0m \u001b[0mself\u001b[0m\u001b[1;33m.\u001b[0m\u001b[0mrun_line_magic\u001b[0m\u001b[1;33m(\u001b[0m\u001b[0mmagic_name\u001b[0m\u001b[1;33m,\u001b[0m \u001b[0mmagic_arg_s\u001b[0m\u001b[1;33m)\u001b[0m\u001b[1;33m\u001b[0m\u001b[0m\n\u001b[0m\u001b[0;32m   2164\u001b[0m \u001b[1;33m\u001b[0m\u001b[0m\n\u001b[0;32m   2165\u001b[0m     \u001b[1;31m#-------------------------------------------------------------------------\u001b[0m\u001b[1;33m\u001b[0m\u001b[1;33m\u001b[0m\u001b[0m\n",
      "\u001b[1;32mc:\\python34\\lib\\site-packages\\IPython\\core\\interactiveshell.py\u001b[0m in \u001b[0;36mrun_line_magic\u001b[1;34m(self, magic_name, line)\u001b[0m\n\u001b[0;32m   2082\u001b[0m                 \u001b[0mkwargs\u001b[0m\u001b[1;33m[\u001b[0m\u001b[1;34m'local_ns'\u001b[0m\u001b[1;33m]\u001b[0m \u001b[1;33m=\u001b[0m \u001b[0msys\u001b[0m\u001b[1;33m.\u001b[0m\u001b[0m_getframe\u001b[0m\u001b[1;33m(\u001b[0m\u001b[0mstack_depth\u001b[0m\u001b[1;33m)\u001b[0m\u001b[1;33m.\u001b[0m\u001b[0mf_locals\u001b[0m\u001b[1;33m\u001b[0m\u001b[0m\n\u001b[0;32m   2083\u001b[0m             \u001b[1;32mwith\u001b[0m \u001b[0mself\u001b[0m\u001b[1;33m.\u001b[0m\u001b[0mbuiltin_trap\u001b[0m\u001b[1;33m:\u001b[0m\u001b[1;33m\u001b[0m\u001b[0m\n\u001b[1;32m-> 2084\u001b[1;33m                 \u001b[0mresult\u001b[0m \u001b[1;33m=\u001b[0m \u001b[0mfn\u001b[0m\u001b[1;33m(\u001b[0m\u001b[1;33m*\u001b[0m\u001b[0margs\u001b[0m\u001b[1;33m,\u001b[0m\u001b[1;33m**\u001b[0m\u001b[0mkwargs\u001b[0m\u001b[1;33m)\u001b[0m\u001b[1;33m\u001b[0m\u001b[0m\n\u001b[0m\u001b[0;32m   2085\u001b[0m             \u001b[1;32mreturn\u001b[0m \u001b[0mresult\u001b[0m\u001b[1;33m\u001b[0m\u001b[0m\n\u001b[0;32m   2086\u001b[0m \u001b[1;33m\u001b[0m\u001b[0m\n",
      "\u001b[1;32m<decorator-gen-60>\u001b[0m in \u001b[0;36mtimeit\u001b[1;34m(self, line, cell)\u001b[0m\n",
      "\u001b[1;32mc:\\python34\\lib\\site-packages\\IPython\\core\\magic.py\u001b[0m in \u001b[0;36m<lambda>\u001b[1;34m(f, *a, **k)\u001b[0m\n\u001b[0;32m    191\u001b[0m     \u001b[1;31m# but it's overkill for just that one bit of state.\u001b[0m\u001b[1;33m\u001b[0m\u001b[1;33m\u001b[0m\u001b[0m\n\u001b[0;32m    192\u001b[0m     \u001b[1;32mdef\u001b[0m \u001b[0mmagic_deco\u001b[0m\u001b[1;33m(\u001b[0m\u001b[0marg\u001b[0m\u001b[1;33m)\u001b[0m\u001b[1;33m:\u001b[0m\u001b[1;33m\u001b[0m\u001b[0m\n\u001b[1;32m--> 193\u001b[1;33m         \u001b[0mcall\u001b[0m \u001b[1;33m=\u001b[0m \u001b[1;32mlambda\u001b[0m \u001b[0mf\u001b[0m\u001b[1;33m,\u001b[0m \u001b[1;33m*\u001b[0m\u001b[0ma\u001b[0m\u001b[1;33m,\u001b[0m \u001b[1;33m**\u001b[0m\u001b[0mk\u001b[0m\u001b[1;33m:\u001b[0m \u001b[0mf\u001b[0m\u001b[1;33m(\u001b[0m\u001b[1;33m*\u001b[0m\u001b[0ma\u001b[0m\u001b[1;33m,\u001b[0m \u001b[1;33m**\u001b[0m\u001b[0mk\u001b[0m\u001b[1;33m)\u001b[0m\u001b[1;33m\u001b[0m\u001b[0m\n\u001b[0m\u001b[0;32m    194\u001b[0m \u001b[1;33m\u001b[0m\u001b[0m\n\u001b[0;32m    195\u001b[0m         \u001b[1;32mif\u001b[0m \u001b[0mcallable\u001b[0m\u001b[1;33m(\u001b[0m\u001b[0marg\u001b[0m\u001b[1;33m)\u001b[0m\u001b[1;33m:\u001b[0m\u001b[1;33m\u001b[0m\u001b[0m\n",
      "\u001b[1;32mc:\\python34\\lib\\site-packages\\IPython\\core\\magics\\execution.py\u001b[0m in \u001b[0;36mtimeit\u001b[1;34m(self, line, cell)\u001b[0m\n\u001b[0;32m   1039\u001b[0m             \u001b[0mnumber\u001b[0m \u001b[1;33m=\u001b[0m \u001b[1;36m1\u001b[0m\u001b[1;33m\u001b[0m\u001b[0m\n\u001b[0;32m   1040\u001b[0m             \u001b[1;32mfor\u001b[0m \u001b[0m_\u001b[0m \u001b[1;32min\u001b[0m \u001b[0mrange\u001b[0m\u001b[1;33m(\u001b[0m\u001b[1;36m1\u001b[0m\u001b[1;33m,\u001b[0m \u001b[1;36m10\u001b[0m\u001b[1;33m)\u001b[0m\u001b[1;33m:\u001b[0m\u001b[1;33m\u001b[0m\u001b[0m\n\u001b[1;32m-> 1041\u001b[1;33m                 \u001b[0mtime_number\u001b[0m \u001b[1;33m=\u001b[0m \u001b[0mtimer\u001b[0m\u001b[1;33m.\u001b[0m\u001b[0mtimeit\u001b[0m\u001b[1;33m(\u001b[0m\u001b[0mnumber\u001b[0m\u001b[1;33m)\u001b[0m\u001b[1;33m\u001b[0m\u001b[0m\n\u001b[0m\u001b[0;32m   1042\u001b[0m                 \u001b[0mworst_tuning\u001b[0m \u001b[1;33m=\u001b[0m \u001b[0mmax\u001b[0m\u001b[1;33m(\u001b[0m\u001b[0mworst_tuning\u001b[0m\u001b[1;33m,\u001b[0m \u001b[0mtime_number\u001b[0m \u001b[1;33m/\u001b[0m \u001b[0mnumber\u001b[0m\u001b[1;33m)\u001b[0m\u001b[1;33m\u001b[0m\u001b[0m\n\u001b[0;32m   1043\u001b[0m                 \u001b[1;32mif\u001b[0m \u001b[0mtime_number\u001b[0m \u001b[1;33m>=\u001b[0m \u001b[1;36m0.2\u001b[0m\u001b[1;33m:\u001b[0m\u001b[1;33m\u001b[0m\u001b[0m\n",
      "\u001b[1;32mc:\\python34\\lib\\site-packages\\IPython\\core\\magics\\execution.py\u001b[0m in \u001b[0;36mtimeit\u001b[1;34m(self, number)\u001b[0m\n\u001b[0;32m    135\u001b[0m         \u001b[0mgc\u001b[0m\u001b[1;33m.\u001b[0m\u001b[0mdisable\u001b[0m\u001b[1;33m(\u001b[0m\u001b[1;33m)\u001b[0m\u001b[1;33m\u001b[0m\u001b[0m\n\u001b[0;32m    136\u001b[0m         \u001b[1;32mtry\u001b[0m\u001b[1;33m:\u001b[0m\u001b[1;33m\u001b[0m\u001b[0m\n\u001b[1;32m--> 137\u001b[1;33m             \u001b[0mtiming\u001b[0m \u001b[1;33m=\u001b[0m \u001b[0mself\u001b[0m\u001b[1;33m.\u001b[0m\u001b[0minner\u001b[0m\u001b[1;33m(\u001b[0m\u001b[0mit\u001b[0m\u001b[1;33m,\u001b[0m \u001b[0mself\u001b[0m\u001b[1;33m.\u001b[0m\u001b[0mtimer\u001b[0m\u001b[1;33m)\u001b[0m\u001b[1;33m\u001b[0m\u001b[0m\n\u001b[0m\u001b[0;32m    138\u001b[0m         \u001b[1;32mfinally\u001b[0m\u001b[1;33m:\u001b[0m\u001b[1;33m\u001b[0m\u001b[0m\n\u001b[0;32m    139\u001b[0m             \u001b[1;32mif\u001b[0m \u001b[0mgcold\u001b[0m\u001b[1;33m:\u001b[0m\u001b[1;33m\u001b[0m\u001b[0m\n",
      "\u001b[1;32m<magic-timeit>\u001b[0m in \u001b[0;36minner\u001b[1;34m(_it, _timer)\u001b[0m\n",
      "\u001b[1;32m<ipython-input-232-5fd3c554ad9e>\u001b[0m in \u001b[0;36mget_raw_pos2a\u001b[1;34m(bin_filename)\u001b[0m\n\u001b[0;32m     64\u001b[0m             \u001b[0mi\u001b[0m \u001b[1;33m=\u001b[0m \u001b[0mvalid_iterations\u001b[0m \u001b[1;33m+\u001b[0m \u001b[0miteration_start\u001b[0m  \u001b[1;31m# offsetting the samples depending on the chunk number (n)\u001b[0m\u001b[1;33m\u001b[0m\u001b[0m\n\u001b[0;32m     65\u001b[0m \u001b[1;33m\u001b[0m\u001b[0m\n\u001b[1;32m---> 66\u001b[1;33m             \u001b[0mpositions\u001b[0m \u001b[1;33m=\u001b[0m \u001b[0mnp\u001b[0m\u001b[1;33m.\u001b[0m\u001b[0mhstack\u001b[0m\u001b[1;33m(\u001b[0m\u001b[1;33m(\u001b[0m\u001b[0mi\u001b[0m\u001b[1;33m,\u001b[0m \u001b[0mtime_stamp\u001b[0m\u001b[1;33m,\u001b[0m \u001b[0mpositions\u001b[0m\u001b[1;33m)\u001b[0m\u001b[1;33m)\u001b[0m  \u001b[1;31m# stacking all these values to create one matrix\u001b[0m\u001b[1;33m\u001b[0m\u001b[0m\n\u001b[0m\u001b[0;32m     67\u001b[0m \u001b[1;33m\u001b[0m\u001b[0m\n\u001b[0;32m     68\u001b[0m             \u001b[0miteration_start\u001b[0m \u001b[1;33m+=\u001b[0m \u001b[0msimul_iterations\u001b[0m\u001b[1;33m\u001b[0m\u001b[0m\n",
      "\u001b[1;32mc:\\python34\\lib\\site-packages\\numpy\\core\\shape_base.py\u001b[0m in \u001b[0;36mhstack\u001b[1;34m(tup)\u001b[0m\n\u001b[0;32m    276\u001b[0m     \u001b[1;31m# As a special case, dimension 0 of 1-dimensional arrays is \"horizontal\"\u001b[0m\u001b[1;33m\u001b[0m\u001b[1;33m\u001b[0m\u001b[0m\n\u001b[0;32m    277\u001b[0m     \u001b[1;32mif\u001b[0m \u001b[0marrs\u001b[0m\u001b[1;33m[\u001b[0m\u001b[1;36m0\u001b[0m\u001b[1;33m]\u001b[0m\u001b[1;33m.\u001b[0m\u001b[0mndim\u001b[0m \u001b[1;33m==\u001b[0m \u001b[1;36m1\u001b[0m\u001b[1;33m:\u001b[0m\u001b[1;33m\u001b[0m\u001b[0m\n\u001b[1;32m--> 278\u001b[1;33m         \u001b[1;32mreturn\u001b[0m \u001b[0m_nx\u001b[0m\u001b[1;33m.\u001b[0m\u001b[0mconcatenate\u001b[0m\u001b[1;33m(\u001b[0m\u001b[0marrs\u001b[0m\u001b[1;33m,\u001b[0m \u001b[1;36m0\u001b[0m\u001b[1;33m)\u001b[0m\u001b[1;33m\u001b[0m\u001b[0m\n\u001b[0m\u001b[0;32m    279\u001b[0m     \u001b[1;32melse\u001b[0m\u001b[1;33m:\u001b[0m\u001b[1;33m\u001b[0m\u001b[0m\n\u001b[0;32m    280\u001b[0m         \u001b[1;32mreturn\u001b[0m \u001b[0m_nx\u001b[0m\u001b[1;33m.\u001b[0m\u001b[0mconcatenate\u001b[0m\u001b[1;33m(\u001b[0m\u001b[0marrs\u001b[0m\u001b[1;33m,\u001b[0m \u001b[1;36m1\u001b[0m\u001b[1;33m)\u001b[0m\u001b[1;33m\u001b[0m\u001b[0m\n",
      "\u001b[1;31mValueError\u001b[0m: all the input arrays must have same number of dimensions"
     ],
     "output_type": "error"
    }
   ],
   "source": [
    "%timeit data = get_raw_pos2(bin_filename)\n",
    "%timeit data = get_raw_pos2a(bin_filename)"
   ]
  },
  {
   "cell_type": "code",
   "execution_count": 8,
   "metadata": {
    "collapsed": true
   },
   "outputs": [],
   "source": [
    "def get_raw_pos3(bin_filename):\n",
    "    \"\"\"This will get the raw position data from the .bin file in the following format:\n",
    "    video timestamp, x1, y1, x2, y2, numpix1, numpix2, total_pix, unused value\n",
    "    \n",
    "    The video timestamp is the time since the camera has been turned on, thus this value is\n",
    "    irrelevent\n",
    "    \n",
    "    The .bin file is written of packets of 432 bytes containing position data, three samples of \n",
    "    electrophys data (per channel), and etc.\n",
    "    \n",
    "    A packet only has a valid position if it has an \"ADU2\" tag in the header. You'll notice that\n",
    "    the positions are sampled at twice the normal rate to avoid aliasing.\n",
    "    \"\"\"\n",
    "    pos_sample_num = 0\n",
    "    \n",
    "    byte_count = os.path.getsize(bin_filename)\n",
    "    bytes_per_iteration = 432\n",
    "    iteration_count = int(byte_count/bytes_per_iteration)  \n",
    "    sample_count = iteration_count * 192  # each iteration has 192 samples (64*3)\n",
    "    \n",
    "    optimal_iteration = 1000000\n",
    "    if optimal_iteration >= iteration_count:\n",
    "        simul_iterations = iteration_count\n",
    "    else:\n",
    "        simul_iterations = find_n(iteration_count, optimal=optimal_iteration)\n",
    "\n",
    "    n = int(iteration_count / simul_iterations) # finds how many loops to do\n",
    "    byte_chunksize = int(simul_iterations * bytes_per_iteration)\n",
    "    \n",
    "    DaqFs = 48000\n",
    "    duration = iteration_count * 3 / DaqFs\n",
    "    duration = np.ceil(duration)\n",
    "    \n",
    "    pos_Fs = 50\n",
    "    n_samples = int(duration * pos_Fs)\n",
    "    \n",
    "    #Reading the Data\n",
    "    \n",
    "    header_byte_len = 32\n",
    "    data_byte_len = 384\n",
    "    trailer_byte_len = 16\n",
    "    \n",
    "    raw_pos = np.array([])\n",
    "    \n",
    "    #iteration_string = '%dh' % (8)\n",
    "    iteration_string = '%di%dhi%dh' % (2, 2, 8+192+1+1+5+1) \n",
    "    \n",
    "    pos_data = b''\n",
    "    \n",
    "    positions = np.array([])\n",
    "    \n",
    "    with open(bin_filename, 'rb') as f:\n",
    "        \n",
    "        iteration_start = 0\n",
    "        \n",
    "        for i in range(n):\n",
    "            data = f.read(byte_chunksize)\n",
    "            \n",
    "             # find the indices of ADU2, ADU2 is where the position is valid\n",
    "            valid_iterations = (np.asarray([instance.start() for instance in re.finditer(b'ADU2', data)])/432).astype(int)\n",
    "            \n",
    "            # return data\n",
    "            data = np.asarray(struct.unpack('<%s' % (simul_iterations*iteration_string), data))\n",
    "            \n",
    "            # get the indices that the positions are in                              \n",
    "            pos_indices = get_valid_pos_indices(valid_iterations)\n",
    "            \n",
    "            i = valid_iterations + iteration_start\n",
    "            \n",
    "            data = data[pos_indices].reshape((-1, 9))  # There are 8 values for positions and 1 for the frame count (timestamp)\n",
    "            \n",
    "            data = np.hstack((i.reshape((-1,1)), data))\n",
    "            \n",
    "            iteration_start += simul_iterations\n",
    "            \n",
    "            if len(positions) != 0:\n",
    "                \n",
    "                positions = np.vstack((positions, data))\n",
    "                \n",
    "            else:\n",
    "                \n",
    "                positions = data\n",
    "        \n",
    "        positions[:,1] = positions[:,1] / 50  # converting from a frame count to a time value in seconds\n",
    "        \n",
    "        # positions is structured as: packet #, video timestamp, y1, x1, y2, x2, numpix1, numpix2, total_pix, unused value \n",
    "\n",
    "        # the X and Y values are reverse piece-wise so lets switch the format from \n",
    "        # packet #, video timestamp, y1, x1, y2, x2, numpix1, numpix2, total_pix, unused value\n",
    "        # to \n",
    "        # packet #, video timestamp, x1, y1, x2, y2, numpix1, numpix2, total_pix, unused value\n",
    "        \n",
    "        positions[:, 2:6] = positions[:, [3, 2, 5, 4]] \n",
    "        \n",
    "        # find the first valid sample, since the data is sampled at 48kHz, and there are 3 samples per packet, the packet\n",
    "        # rate is 16kHz. The positions are sampled at 50 Hz thus there is a valid position ever 320 packets. The valid position\n",
    "        # will essentially take the last ADU2 headered packet values\n",
    "        \n",
    "        first_sample_index = len(np.where([positions[:, 0] <= 320 - 1])[0])-1  # subtract one since indices in python start at 0\n",
    "\n",
    "        indices = np.arange(first_sample_index, len(positions)+1, 2)  # step of 2 because it needs to be downsampled\n",
    "        positions = positions[indices, 1:]  # don't need the packet index anymore\n",
    "\n",
    "        # if there are less than the correct number of positions, just say the rest of the time was spent at the last recorded location\n",
    "\n",
    "        if positions.shape[0] < n_samples:\n",
    "\n",
    "            missing_n = n_samples - positions.shape[0]\n",
    "            last_location = positions[-1, :]\n",
    "            missing_samples = np.tile(last_location, (missing_n, 1))\n",
    "\n",
    "            positions = np.vstack((positions, missing_samples))\n",
    "    \n",
    "    return positions\n"
   ]
  },
  {
   "cell_type": "code",
   "execution_count": 57,
   "metadata": {
    "collapsed": false
   },
   "outputs": [
    {
     "name": "stdout",
     "output_type": "stream",
     "text": [
      "b'ADU1\\x01\\x00\\x00\\x00\\x00\\x00\\x01\\x00\\x00\\x00\\x00\\x00\\x00\\x00\\x00\\x00\\x00\\x00\\x00\\x00\\x00\\x00\\x00\\x00\\x00\\x00\\x00\\x00\\x00\\x00\\x00\\x00\\x00\\x00\\x00\\x00\\x00\\x00\\x00\\x00\\x00\\x00\\x00\\x00\\x00\\x00\\x00\\x00\\x00\\x00\\x00\\x00\\x00\\x00\\x00\\x00\\x00\\x00\\x00\\x00\\x00\\x00\\x00\\x00\\x00\\x00\\x00\\x00\\x00\\x00\\x00\\x00\\x00\\x00\\x00\\x00\\x00\\x00\\x00\\x00\\x00\\x00\\x00\\x00\\x00\\x00\\x00\\x00\\x00\\x00\\x00\\x00\\x00\\x00\\x00\\x00'\n"
     ]
    }
   ],
   "source": [
    "data = get_raw_pos2(bin_filename)\n",
    "print(data[:100])"
   ]
  },
  {
   "cell_type": "code",
   "execution_count": 56,
   "metadata": {
    "collapsed": false
   },
   "outputs": [
    {
     "ename": "TypeError",
     "evalue": "byte indices must be integers, not tuple",
     "traceback": [
      "\u001b[1;31m---------------------------------------------------------------------------\u001b[0m",
      "\u001b[1;31mTypeError\u001b[0m                                 Traceback (most recent call last)",
      "\u001b[1;32m<ipython-input-56-07ec599e895e>\u001b[0m in \u001b[0;36m<module>\u001b[1;34m()\u001b[0m\n\u001b[1;32m----> 1\u001b[1;33m \u001b[0mplt\u001b[0m\u001b[1;33m.\u001b[0m\u001b[0mplot\u001b[0m\u001b[1;33m(\u001b[0m\u001b[0mdata\u001b[0m\u001b[1;33m[\u001b[0m\u001b[1;33m:\u001b[0m\u001b[1;33m,\u001b[0m\u001b[1;36m1\u001b[0m\u001b[1;33m]\u001b[0m\u001b[1;33m,\u001b[0m \u001b[0mdata\u001b[0m\u001b[1;33m[\u001b[0m\u001b[1;33m:\u001b[0m\u001b[1;33m,\u001b[0m\u001b[1;36m2\u001b[0m\u001b[1;33m]\u001b[0m\u001b[1;33m)\u001b[0m\u001b[1;33m\u001b[0m\u001b[0m\n\u001b[0m",
      "\u001b[1;31mTypeError\u001b[0m: byte indices must be integers, not tuple"
     ],
     "output_type": "error"
    }
   ],
   "source": [
    "plt.plot(data[:,1], data[:,2])"
   ]
  },
  {
   "cell_type": "code",
   "execution_count": 19,
   "metadata": {
    "collapsed": false
   },
   "outputs": [
    {
     "name": "stdout",
     "output_type": "stream",
     "text": [
      "         6102 function calls in 32.265 seconds\n",
      "\n",
      "   Ordered by: internal time\n",
      "\n",
      "   ncalls  tottime  percall  cumtime  percall filename:lineno(function)\n",
      "       11   22.381    2.035   22.381    2.035 {built-in method array}\n",
      "        1    6.909    6.909    6.909    6.909 {built-in method unpack}\n",
      "        1    2.396    2.396   32.265   32.265 <ipython-input-5-c839f6a7c4aa>:30(get_raw_pos2)\n",
      "        1    0.320    0.320    0.320    0.320 {method 'read' of '_io.BufferedReader' objects}\n",
      "        1    0.251    0.251    0.253    0.253 <ipython-input-5-c839f6a7c4aa>:89(<listcomp>)\n",
      "     6001    0.002    0.000    0.002    0.000 {method 'start' of '_sre.SRE_Match' objects}\n",
      "        1    0.001    0.001    0.004    0.004 <ipython-input-5-c839f6a7c4aa>:1(get_valid_pos_indices)\n",
      "        3    0.001    0.000    0.001    0.000 {method 'repeat' of 'numpy.ndarray' objects}\n",
      "        3    0.001    0.000    0.002    0.001 shape_base.py:785(tile)\n",
      "        2    0.001    0.000    0.001    0.000 {method 'flatten' of 'numpy.ndarray' objects}\n",
      "        4    0.001    0.000    0.001    0.000 numeric.py:484(asanyarray)\n",
      "        1    0.000    0.000    0.000    0.000 {built-in method stat}\n",
      "        1    0.000    0.000    0.000    0.000 {built-in method open}\n",
      "        2    0.000    0.000   22.381   11.191 numeric.py:414(asarray)\n",
      "        2    0.000    0.000    0.001    0.000 shape_base.py:9(atleast_1d)\n",
      "        2    0.000    0.000    0.000    0.000 {built-in method concatenate}\n",
      "        1    0.000    0.000   32.265   32.265 <string>:1(<module>)\n",
      "        2    0.000    0.000    0.000    0.000 {built-in method arange}\n",
      "        1    0.000    0.000    0.001    0.001 shape_base.py:275(<listcomp>)\n",
      "        1    0.000    0.000   32.265   32.265 {built-in method exec}\n",
      "        1    0.000    0.000    0.001    0.001 shape_base.py:232(hstack)\n",
      "        3    0.000    0.000    0.000    0.000 {built-in method all}\n",
      "        1    0.000    0.000    0.000    0.000 {built-in method where}\n",
      "        1    0.000    0.000    0.001    0.001 genericpath.py:48(getsize)\n",
      "        8    0.000    0.000    0.000    0.000 {method 'reshape' of 'numpy.ndarray' objects}\n",
      "        1    0.000    0.000    0.000    0.000 {method 'astype' of 'numpy.ndarray' objects}\n",
      "        2    0.000    0.000    0.000    0.000 shape_base.py:61(atleast_2d)\n",
      "       17    0.000    0.000    0.000    0.000 {built-in method len}\n",
      "        7    0.000    0.000    0.000    0.000 shape_base.py:856(<genexpr>)\n",
      "        1    0.000    0.000    0.000    0.000 shape_base.py:230(<listcomp>)\n",
      "        1    0.000    0.000    0.000    0.000 re.py:277(_compile)\n",
      "        1    0.000    0.000    0.000    0.000 re.py:214(finditer)\n",
      "        1    0.000    0.000    0.000    0.000 {method 'finditer' of '_sre.SRE_Pattern' objects}\n",
      "        9    0.000    0.000    0.000    0.000 shape_base.py:866(<genexpr>)\n",
      "        4    0.000    0.000    0.000    0.000 {method 'append' of 'list' objects}\n",
      "        1    0.000    0.000    0.000    0.000 shape_base.py:180(vstack)\n",
      "        1    0.000    0.000    0.000    0.000 {method 'disable' of '_lsprof.Profiler' objects}\n",
      "\n",
      "\n",
      "<pstats.Stats object at 0x00000000000710B8>\n"
     ]
    }
   ],
   "source": [
    "print(p.print_stats())"
   ]
  },
  {
   "cell_type": "code",
   "execution_count": 35,
   "metadata": {
    "collapsed": false
   },
   "outputs": [
    {
     "name": "stdout",
     "output_type": "stream",
     "text": [
      "         6103 function calls in 23.031 seconds\n",
      "\n",
      "   Ordered by: standard name\n",
      "\n",
      "   ncalls  tottime  percall  cumtime  percall filename:lineno(function)\n",
      "        3    0.000    0.000    0.000    0.000 :0(all)\n",
      "        4    0.000    0.000    0.000    0.000 :0(append)\n",
      "        2    0.000    0.000    0.000    0.000 :0(arange)\n",
      "       11   16.344    1.486   16.344    1.486 :0(array)\n",
      "        1    0.000    0.000    0.000    0.000 :0(astype)\n",
      "        2    0.000    0.000    0.000    0.000 :0(concatenate)\n",
      "        1    0.000    0.000   23.031   23.031 :0(exec)\n",
      "        1    0.000    0.000    0.000    0.000 :0(finditer)\n",
      "        2    0.000    0.000    0.000    0.000 :0(flatten)\n",
      "       17    0.000    0.000    0.000    0.000 :0(len)\n",
      "        1    0.000    0.000    0.000    0.000 :0(open)\n",
      "        1    0.234    0.234    0.234    0.234 :0(read)\n",
      "        3    0.000    0.000    0.000    0.000 :0(repeat)\n",
      "        8    0.000    0.000    0.000    0.000 :0(reshape)\n",
      "        1    0.000    0.000    0.000    0.000 :0(setprofile)\n",
      "     6001    0.031    0.000    0.031    0.000 :0(start)\n",
      "        1    0.000    0.000    0.000    0.000 :0(stat)\n",
      "        1    4.297    4.297    4.297    4.297 :0(unpack)\n",
      "        1    0.000    0.000    0.000    0.000 :0(where)\n",
      "        1    0.000    0.000    0.000    0.000 <ipython-input-25-c839f6a7c4aa>:1(get_valid_pos_indices)\n",
      "        1    1.906    1.906   23.031   23.031 <ipython-input-25-c839f6a7c4aa>:30(get_raw_pos2)\n",
      "        1    0.219    0.219    0.250    0.250 <ipython-input-25-c839f6a7c4aa>:89(<listcomp>)\n",
      "        1    0.000    0.000   23.031   23.031 <string>:1(<module>)\n",
      "        1    0.000    0.000    0.000    0.000 genericpath.py:48(getsize)\n",
      "        2    0.000    0.000   16.344    8.172 numeric.py:414(asarray)\n",
      "        4    0.000    0.000    0.000    0.000 numeric.py:484(asanyarray)\n",
      "        1    0.000    0.000   23.031   23.031 profile:0(get_raw_pos2(bin_filename))\n",
      "        0    0.000             0.000          profile:0(profiler)\n",
      "        1    0.000    0.000    0.000    0.000 re.py:214(finditer)\n",
      "        1    0.000    0.000    0.000    0.000 re.py:277(_compile)\n",
      "        1    0.000    0.000    0.000    0.000 shape_base.py:180(vstack)\n",
      "        1    0.000    0.000    0.000    0.000 shape_base.py:230(<listcomp>)\n",
      "        1    0.000    0.000    0.000    0.000 shape_base.py:232(hstack)\n",
      "        1    0.000    0.000    0.000    0.000 shape_base.py:275(<listcomp>)\n",
      "        2    0.000    0.000    0.000    0.000 shape_base.py:61(atleast_2d)\n",
      "        3    0.000    0.000    0.000    0.000 shape_base.py:785(tile)\n",
      "        7    0.000    0.000    0.000    0.000 shape_base.py:856(<genexpr>)\n",
      "        9    0.000    0.000    0.000    0.000 shape_base.py:866(<genexpr>)\n",
      "        2    0.000    0.000    0.000    0.000 shape_base.py:9(atleast_1d)\n",
      "\n",
      "\n"
     ]
    }
   ],
   "source": [
    "pr = profile.Profile()\n",
    "res = pr.run(\"get_raw_pos2(bin_filename)\")\n",
    "res.print_stats()"
   ]
  },
  {
   "cell_type": "code",
   "execution_count": 58,
   "metadata": {
    "collapsed": false
   },
   "outputs": [
    {
     "name": "stdout",
     "output_type": "stream",
     "text": [
      "[     1    152    312 ..., 959672 959832 959992]\n",
      "959992\n"
     ]
    }
   ],
   "source": [
    "# find the indices of ADU2, ADU2 is where the position is valid\n",
    "import re\n",
    "valid_iterations = (np.asarray([instance.start() for instance in re.finditer(b'ADU2', data)])/432).astype(int)\n",
    "print(valid_iterations)\n",
    "print(max(valid_iterations))"
   ]
  },
  {
   "cell_type": "code",
   "execution_count": 292,
   "metadata": {
    "collapsed": false
   },
   "outputs": [
    {
     "name": "stdout",
     "output_type": "stream",
     "text": [
      "414763200\n"
     ]
    }
   ],
   "source": [
    "%lprun -f get_raw_pos2a get_raw_pos2a(bin_filename)"
   ]
  },
  {
   "cell_type": "code",
   "execution_count": null,
   "metadata": {
    "collapsed": true
   },
   "outputs": [],
   "source": []
  }
 ],
 "metadata": {
  "kernelspec": {
   "display_name": "Python 3",
   "language": "python",
   "name": "python3"
  },
  "language_info": {
   "codemirror_mode": {
    "name": "ipython",
    "version": 3
   },
   "file_extension": ".py",
   "mimetype": "text/x-python",
   "name": "python",
   "nbconvert_exporter": "python",
   "pygments_lexer": "ipython3",
   "version": "3.4.4"
  }
 },
 "nbformat": 4,
 "nbformat_minor": 0
}

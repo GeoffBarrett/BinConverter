{
 "cells": [
  {
   "cell_type": "code",
   "execution_count": 14,
   "metadata": {
    "collapsed": true
   },
   "outputs": [],
   "source": [
    "import os, imp, peakutils, datetime, struct, math, sys, time\n",
    "from Tint_Matlab import *\n",
    "from ConversionFunctions import find_sub, find_consec, session_datetime, find_basename_files\n",
    "import numpy as np\n",
    "\n",
    "import SignalProcessing as sp\n",
    "%matplotlib inline\n",
    "import matplotlib.pyplot as plt\n",
    "from scipy import signal, fftpack\n",
    "from scipy.interpolate import interp1d\n",
    "from functools import reduce\n",
    "\n",
    "import load_intan_rhd_format as load_rhd\n",
    "from intanutil.notch_filter import notch_filter\n",
    "from intanutil.read_header import read_header"
   ]
  },
  {
   "cell_type": "code",
   "execution_count": 15,
   "metadata": {
    "collapsed": true
   },
   "outputs": [],
   "source": [
    "def write_dummy_pos(position_file, session_parameters):\n",
    "    \n",
    "    position_samples = int(session_parameters['duration']*50)\n",
    "\n",
    "    x = np.zeros((position_samples, 1))\n",
    "    y = np.zeros_like(x)\n",
    "    \n",
    "    with open(position_file, 'wb+') as f:  # opening the .pos file\n",
    "        trialdate, trialtime = session_datetime(position_file)\n",
    "        write_list = []\n",
    "        header_vals = ['trial_data %s' % trialdate,\n",
    "                  '\\r\\ntrial_time %s' % trialtime,\n",
    "                  '\\r\\nexperimenter %s' % session_parameters['experimenter'],\n",
    "                  '\\r\\ncomments Arena:%s' % session_parameters['arena'],\n",
    "                  '\\r\\nduration %d' % session_parameters['duration'],\n",
    "                  '\\r\\nsw_version %s' % '1.3.0.16',\n",
    "                  '\\r\\nnum_colours %d' % 4,\n",
    "                  '\\r\\nmin_x %d' % session_parameters['min_x'],\n",
    "                  '\\r\\nmax_x %d' % session_parameters['max_x'],\n",
    "                  '\\r\\nmin_y %d' % session_parameters['min_y'],\n",
    "                  '\\r\\nmax_y %d' % session_parameters['max_y'],\n",
    "                  '\\r\\nwindow_min_x %d' % session_parameters['window_min_x'],\n",
    "                  '\\r\\nwindow_max_x %d' % session_parameters['window_max_x'],\n",
    "                  '\\r\\nwindow_min_y %d' % session_parameters['window_min_y'],\n",
    "                  '\\r\\nwindow_max_y %d' % session_parameters['window_max_y'],\n",
    "                  '\\r\\ntimebase %d hz' % 50,\n",
    "                  '\\r\\nbytes_per_timestamp %d' % 4,\n",
    "                  '\\r\\nsample_rate %.1f hz' % 50.0,\n",
    "                  '\\r\\nEEG_samples_per_position %d' % 5,\n",
    "                  '\\r\\nbearing_colour_1 %d' % 0,\n",
    "                  '\\r\\nbearing_colour_2 %d' % 0,\n",
    "                  '\\r\\nbearing_colour_3 %d' % 0,\n",
    "                  '\\r\\nbearing_colour_4 %d' % 0,\n",
    "                  '\\r\\npos_format t,x1,y1,x2,y2,numpix1,numpix2',\n",
    "                  '\\r\\nbytes_per_coord %d' % 2,\n",
    "                  '\\r\\npixels_per_metre %f' % 100,\n",
    "                  '\\r\\nnum_pos_samples %d' % position_samples,\n",
    "                  '\\r\\ndata_start']\n",
    "\n",
    "        for value in header_vals:\n",
    "            write_list.append(bytes(value, 'utf-8'))\n",
    "\n",
    "        onespot = 1  # this is just in case we decide to add other modes.\n",
    "\n",
    "        #write_list = [bytes(headers, 'utf-8')]\n",
    "\n",
    "        #write_list.append()\n",
    "        for sample_num in np.arange(0, len(x)):\n",
    "\n",
    "            '''\n",
    "            twospot => format: t,x1,y1,x2,y2,numpix1,numpix2\n",
    "            onespot mode has the same format as two-spot mode except x2 and y2 take on values of 1023 (untracked value)\n",
    "\n",
    "            note: timestamps and positions are big endian, i has 4 bytes, and h has 2 bytes\n",
    "            '''\n",
    "\n",
    "            if onespot == 1:\n",
    "                numpix1 = 1\n",
    "                numpix2 = 0\n",
    "                x2 = 1023\n",
    "                y2 = 1023\n",
    "                unused = 0\n",
    "                total_pix = numpix1  # total number of pixels tracked\n",
    "                #t_byte = struct.pack('>i', sample_num)\n",
    "                write_list.append(struct.pack('>i', sample_num))\n",
    "                #pos_byte = struct.pack('>8h', int(np.rint(main.positions[sample_num,0])), int(np.rint(main.positions[sample_num,1])), x2, y2, numpix1, numpix2, total_pix, unused)\n",
    "\n",
    "                write_list.append(struct.pack('>8h', int(np.rint(x[sample_num])),\n",
    "                                              int(np.rint(y[sample_num])), x2, y2, numpix1,\n",
    "                                              numpix2, total_pix, unused))\n",
    "\n",
    "        #f.seek(0, 2)\n",
    "        #f.writelines([bytes(headers, 'utf-8'), t_byte, pos_byte, bytes('\\r\\ndata_end\\r\\n', 'utf-8')])\n",
    "        write_list.append(bytes('\\r\\ndata_end\\r\\n', 'utf-8'))\n",
    "        f.writelines(write_list)"
   ]
  },
  {
   "cell_type": "code",
   "execution_count": 16,
   "metadata": {
    "collapsed": false
   },
   "outputs": [],
   "source": [
    "RHD_Directory = 'C:\\\\Users\\\\Geoffrey Barrett\\\\Desktop\\\\IntanTestData\\\\03092017'\n",
    "directory_file_list = os.listdir(RHD_Directory)\n",
    "\n",
    "rhd_sessions = []  # initializing the list of\n",
    "\n",
    "intan_basenames = []\n",
    "# list comprehension that finds the basename of each rhd file and appens to list if it isn't already in the list\n",
    "[intan_basenames.append(file[:find_sub(file, '_')[-2]]) for file in directory_file_list if '.rhd' in file\n",
    " and file[:find_sub(file, '_')[-2]] not in intan_basenames]\n",
    "\n",
    "for basename in intan_basenames:\n",
    "    '''iterating through each file with this basename'''\n",
    "    if basename not in (session_file for session in rhd_sessions for session_file in session):\n",
    "        basename_session = find_basename_files(basename, RHD_Directory)\n",
    "\n",
    "    if basename_session not in (session_file for session in rhd_sessions for session_file in session):\n",
    "        for session in basename_session:\n",
    "            rhd_sessions.append(session)\n"
   ]
  },
  {
   "cell_type": "code",
   "execution_count": 17,
   "metadata": {
    "collapsed": false
   },
   "outputs": [
    {
     "name": "stdout",
     "output_type": "stream",
     "text": [
      "['C:\\\\Users\\\\Geoffrey Barrett\\\\Desktop\\\\IntanTestData\\\\03092017\\\\cage_test_electronics_170309_123009.rhd', 'C:\\\\Users\\\\Geoffrey Barrett\\\\Desktop\\\\IntanTestData\\\\03092017\\\\cage_test_electronics_170309_122809.rhd', 'C:\\\\Users\\\\Geoffrey Barrett\\\\Desktop\\\\IntanTestData\\\\03092017\\\\cage_test_electronics_170309_122609.rhd', 'C:\\\\Users\\\\Geoffrey Barrett\\\\Desktop\\\\IntanTestData\\\\03092017\\\\cage_test_electronics_170309_122409.rhd', 'C:\\\\Users\\\\Geoffrey Barrett\\\\Desktop\\\\IntanTestData\\\\03092017\\\\cage_test_electronics_170309_122209.rhd']\n"
     ]
    }
   ],
   "source": [
    "print(rhd_sessions[2])"
   ]
  },
  {
   "cell_type": "code",
   "execution_count": 18,
   "metadata": {
    "collapsed": false
   },
   "outputs": [
    {
     "name": "stdout",
     "output_type": "stream",
     "text": [
      "Loading the Intan files associated with the following basename: cage_test_170309_121452!\n",
      "Currently loading data from the following file: C:\\Users\\Geoffrey Barrett\\Desktop\\IntanTestData\\03092017\\cage_test_170309_121452.rhd\n",
      "Currently loading data from the following file: C:\\Users\\Geoffrey Barrett\\Desktop\\IntanTestData\\03092017\\cage_test_170309_121652.rhd\n",
      "Currently loading data from the following file: C:\\Users\\Geoffrey Barrett\\Desktop\\IntanTestData\\03092017\\cage_test_170309_121852.rhd\n",
      "Writing the dumby position file!\n",
      "Loading the Intan files associated with the following basename: cage_test_170309_121033!\n",
      "Currently loading data from the following file: C:\\Users\\Geoffrey Barrett\\Desktop\\IntanTestData\\03092017\\cage_test_170309_121033.rhd\n",
      "Currently loading data from the following file: C:\\Users\\Geoffrey Barrett\\Desktop\\IntanTestData\\03092017\\cage_test_170309_121133.rhd\n",
      "Currently loading data from the following file: C:\\Users\\Geoffrey Barrett\\Desktop\\IntanTestData\\03092017\\cage_test_170309_121233.rhd\n",
      "Currently loading data from the following file: C:\\Users\\Geoffrey Barrett\\Desktop\\IntanTestData\\03092017\\cage_test_170309_121333.rhd\n",
      "Writing the dumby position file!\n",
      "Loading the Intan files associated with the following basename: cage_test_electronics_170309_122209!\n",
      "Currently loading data from the following file: C:\\Users\\Geoffrey Barrett\\Desktop\\IntanTestData\\03092017\\cage_test_electronics_170309_122209.rhd\n",
      "Currently loading data from the following file: C:\\Users\\Geoffrey Barrett\\Desktop\\IntanTestData\\03092017\\cage_test_electronics_170309_122409.rhd\n",
      "Currently loading data from the following file: C:\\Users\\Geoffrey Barrett\\Desktop\\IntanTestData\\03092017\\cage_test_electronics_170309_122609.rhd\n",
      "Currently loading data from the following file: C:\\Users\\Geoffrey Barrett\\Desktop\\IntanTestData\\03092017\\cage_test_electronics_170309_122809.rhd\n",
      "Currently loading data from the following file: C:\\Users\\Geoffrey Barrett\\Desktop\\IntanTestData\\03092017\\cage_test_electronics_170309_123009.rhd\n",
      "Writing the dumby position file!\n",
      "Finished\n"
     ]
    }
   ],
   "source": [
    "for session in rhd_sessions:\n",
    "    \n",
    "    tint_basename = os.path.basename(os.path.splitext(sorted(session, reverse=False)[0])[0]) \n",
    "    # the first created file of the session will be the basename for tint\n",
    "    print('Loading the Intan files associated with the following basename: %s!' % tint_basename)\n",
    "    session_position_file = '%s.pos' % os.path.join(RHD_Directory, tint_basename)\n",
    "    \n",
    "    data = np.array([])\n",
    "    t_intan = np.array([])\n",
    "    # concatenates the data from all the .rhd files\n",
    "    for session_file in sorted(session, reverse=False):\n",
    "        \n",
    "        print('Currently loading data from the following file: %s' % session_file)\n",
    "        file_data = load_rhd.read_data(session_file) # loading the .rhd data\n",
    "        \n",
    "        #file_header = read_header(open(session_file, 'rb'))  # if we need the header information\n",
    "        \n",
    "        # Acquiring session information \n",
    "        session_info = file_data['amplifier_channels']  # information about the channels (port_name, electrical impedance, etc)\n",
    "        \n",
    "        if data.shape[0] == 0:\n",
    "            data = file_data['amplifier_data']\n",
    "            #bits, data is arranged into (number of channels, number of samples)\n",
    "        else:\n",
    "            \n",
    "            data = np.concatenate((data,file_data['amplifier_data']), axis=1)\n",
    "            #print(data.shape)\n",
    "        \n",
    "        if t_intan.shape[0] == 0:\n",
    "            frequency_parameters = file_data['frequency_parameters']  # the frequency settings of the intan recording system\n",
    "            Fs_intan = frequency_parameters['amplifier_sample_rate']  # the sampling frequency of the intan recording system\n",
    "            t_intan =  file_data['t_amplifier'] # the times recorded by the intan system, starts at the value of 0 seconds\n",
    "        else:\n",
    "            # the time's always start at 0, per .rhd file, so when putting them together you need add to each time value\n",
    "            t_intan = np.concatenate((t_intan,file_data['t_amplifier']), axis=0)   \n",
    "            #print(t_intan.shape)\n",
    "    \n",
    "    file_data = None\n",
    "    \n",
    "    duration = len(t_intan)/Fs_intan # the duration value that would be reported in the .pos/.set settings\n",
    "    #print(duration)\n",
    "    if not duration.is_integer():\n",
    "        '''Tint needs integer values in the duration spot of the .pos file, so we will round down if not an integer'''\n",
    "        duration = math.floor(duration) # the new integer duration value\n",
    "\n",
    "    # dumby position parameters\n",
    "    experimenter_name = 'Geoff'\n",
    "    arena = 'Circular Track'\n",
    "    min_x = 0  # found in Tint's field view\n",
    "    max_x = 512  # found in Tint's field view\n",
    "    min_y = 0  # found in Tint's field view\n",
    "    max_y = 523  # found in Tint's field view\n",
    "\n",
    "    window_min_x = 200  # found in Tint's field view\n",
    "    window_max_x = 538  # found in Tint's field view\n",
    "    window_min_y = 164  # found in Tint's field view\n",
    "    window_max_y = 492  # found in Tint's field view\n",
    "\n",
    "    session_parameters = {'experimenter':experimenter_name, 'arena': arena, 'duration': duration, 'min_x':min_x, 'max_x':max_x,\n",
    "                         'min_y':min_y, 'max_y':max_y, 'window_min_x':window_min_x, 'window_max_x':window_max_x,\n",
    "                         'window_min_y':window_min_y, 'window_max_y':window_max_y, 'ppm':100}\n",
    "    \n",
    "    print('Writing the dumby position file!')\n",
    "    write_dummy_pos(session_position_file, session_parameters)\n",
    "print('Finished')"
   ]
  },
  {
   "cell_type": "code",
   "execution_count": null,
   "metadata": {
    "collapsed": true
   },
   "outputs": [],
   "source": []
  }
 ],
 "metadata": {
  "kernelspec": {
   "display_name": "Python 3",
   "language": "python",
   "name": "python3"
  },
  "language_info": {
   "codemirror_mode": {
    "name": "ipython",
    "version": 3
   },
   "file_extension": ".py",
   "mimetype": "text/x-python",
   "name": "python",
   "nbconvert_exporter": "python",
   "pygments_lexer": "ipython3",
   "version": "3.4.4"
  }
 },
 "nbformat": 4,
 "nbformat_minor": 0
}
